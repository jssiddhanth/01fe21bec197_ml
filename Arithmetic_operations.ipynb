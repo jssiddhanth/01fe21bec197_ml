{
  "nbformat": 4,
  "nbformat_minor": 0,
  "metadata": {
    "colab": {
      "provenance": []
    },
    "kernelspec": {
      "name": "python3",
      "display_name": "Python 3"
    },
    "language_info": {
      "name": "python"
    }
  },
  "cells": [
    {
      "cell_type": "code",
      "execution_count": 1,
      "metadata": {
        "colab": {
          "base_uri": "https://localhost:8080/"
        },
        "id": "xjAEYjR6FRDF",
        "outputId": "f3818ff1-375b-4a67-c986-f31bd778c7bc"
      },
      "outputs": [
        {
          "output_type": "stream",
          "name": "stdout",
          "text": [
            "18.5\n",
            "8.5\n",
            "67.5\n",
            "2.7\n",
            "2.0\n",
            "3.5\n",
            "448403.34375\n"
          ]
        }
      ],
      "source": [
        "x=13.5\n",
        "y=5\n",
        "\n",
        "sum=x+y\n",
        "diff=x-y\n",
        "prod=x*y\n",
        "div=x/y\n",
        "fdiv=x//y\n",
        "mod=x%y\n",
        "power=x**y\n",
        "print(sum)\n",
        "print(diff)\n",
        "print(prod)\n",
        "print(div)\n",
        "print(fdiv)\n",
        "print(mod)\n",
        "print(power)"
      ]
    }
  ]
}