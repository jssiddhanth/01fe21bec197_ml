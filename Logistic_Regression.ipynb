{
  "nbformat": 4,
  "nbformat_minor": 0,
  "metadata": {
    "colab": {
      "provenance": []
    },
    "kernelspec": {
      "name": "python3",
      "display_name": "Python 3"
    },
    "language_info": {
      "name": "python"
    }
  },
  "cells": [
    {
      "cell_type": "code",
      "execution_count": 1,
      "metadata": {
        "colab": {
          "base_uri": "https://localhost:8080/"
        },
        "id": "LXn97oaHs-dd",
        "outputId": "23102891-73ad-4291-e217-ae9c45769292"
      },
      "outputs": [
        {
          "output_type": "stream",
          "name": "stdout",
          "text": [
            "[0]\n"
          ]
        }
      ],
      "source": [
        "import numpy\n",
        "from sklearn import linear_model\n",
        "\n",
        "#Reshaped for Logistic function.\n",
        "X = numpy.array([3.78, 2.44, 2.09, 0.14, 1.72, 1.65, 4.92, 4.37, 4.96, 4.52, 3.69, 5.88]).reshape(-1,1)\n",
        "y = numpy.array([0, 0, 0, 0, 0, 0, 1, 1, 1, 1, 1, 1])\n",
        "\n",
        "logr = linear_model.LogisticRegression()\n",
        "logr.fit(X,y)\n",
        "\n",
        "#predict if tumor is cancerous where the size is 3.46mm:\n",
        "predicted = logr.predict(numpy.array([3.46]).reshape(-1,1))\n",
        "print(predicted)"
      ]
    }
  ]
}