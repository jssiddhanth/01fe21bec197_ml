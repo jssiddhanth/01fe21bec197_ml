{
  "nbformat": 4,
  "nbformat_minor": 0,
  "metadata": {
    "colab": {
      "provenance": []
    },
    "kernelspec": {
      "name": "python3",
      "display_name": "Python 3"
    },
    "language_info": {
      "name": "python"
    }
  },
  "cells": [
    {
      "cell_type": "code",
      "execution_count": null,
      "metadata": {
        "colab": {
          "base_uri": "https://localhost:8080/"
        },
        "id": "qVY3Q7hVdumP",
        "outputId": "c94bdf0d-6aa4-49d5-e942-83adab8a00f3"
      },
      "outputs": [
        {
          "output_type": "stream",
          "name": "stdout",
          "text": [
            "Enter a number: 30\n",
            "Result: Humpty Dumpty\n"
          ]
        }
      ],
      "source": [
        "def humpty_dumpty(num):\n",
        "    if num % 3 == 0 and num % 5 == 0:\n",
        "        return \"Humpty Dumpty\"\n",
        "    elif num % 3 == 0:\n",
        "        return \"Humpty\"\n",
        "    elif num % 5 == 0:\n",
        "        return \"Dumpty\"\n",
        "    else:\n",
        "        return num\n",
        "\n",
        "try:\n",
        "    user_input = int(input(\"Enter a number: \"))\n",
        "    result = humpty_dumpty(user_input)\n",
        "    print(\"Value is\", result)\n",
        "except ValueError:\n",
        "    print(\"Please enter a valid data\")"
      ]
    },
    {
      "cell_type": "markdown",
      "source": [
        "Write a code in python with a function that returns sum of multiples of 3 and 5 between 0 and user input"
      ],
      "metadata": {
        "id": "eWfe3CAlfYeY"
      }
    },
    {
      "cell_type": "code",
      "source": [
        "def sum_multiples(limit):\n",
        "\n",
        "  sum = 0\n",
        "  for i in range(limit):\n",
        "    if i % 3 == 0 or i % 5 == 0:\n",
        "      sum += i\n",
        "  return sum\n",
        "\n",
        "\n",
        "\n",
        "limit = int(input(\"Enter the upper limit: \"))\n",
        "print(\"The sum of is {}\".format( sum_multiples(limit)))"
      ],
      "metadata": {
        "id": "e0dnXSAJjzvu",
        "colab": {
          "base_uri": "https://localhost:8080/"
        },
        "outputId": "5cf2696f-d381-4fbd-bd88-1e98a822d670"
      },
      "execution_count": 25,
      "outputs": [
        {
          "output_type": "stream",
          "name": "stdout",
          "text": [
            "Enter the upper limit: 20\n",
            "The sum of is 78\n"
          ]
        }
      ]
    },
    {
      "cell_type": "code",
      "source": [
        "matrix1 = []\n",
        "matrix2 = []\n",
        "\n",
        "print(\"Enter the elements of the first matrix (3x2):\")\n",
        "for i in range(3):\n",
        "    row = []\n",
        "    for j in range(2):\n",
        "        row.append(int(input(f\"Enter element at position ({i+1},{j+1}): \")))\n",
        "    matrix1.append(row)\n",
        "\n",
        "print(\"\\nEnter the elements of the second matrix (2x3):\")\n",
        "for i in range(2):\n",
        "    row = []\n",
        "    for j in range(3):\n",
        "        row.append(int(input(f\"Enter element at position ({i+1},{j+1}): \")))\n",
        "    matrix2.append(row)\n",
        "\n",
        "result = [[0 for _ in range(3)] for _ in range(3)]\n",
        "\n",
        "for i in range(3):\n",
        "    for j in range(3):\n",
        "        for k in range(2):\n",
        "            result[i][j] += matrix1[i][k] * matrix2[k][j]\n",
        "\n",
        "print(\"\\nResultant Matrix (3x3) after multiplication:\")\n",
        "for row in result:\n",
        "    print(row)"
      ],
      "metadata": {
        "colab": {
          "base_uri": "https://localhost:8080/"
        },
        "id": "MPqtaT83i83-",
        "outputId": "2c5f360f-d868-43fb-8247-e1672c588308"
      },
      "execution_count": null,
      "outputs": [
        {
          "output_type": "stream",
          "name": "stdout",
          "text": [
            "Enter the elements of the first matrix (3x2):\n",
            "Enter element at position (1,1): 1\n",
            "Enter element at position (1,2): 1\n",
            "Enter element at position (2,1): 1\n",
            "Enter element at position (2,2): 1\n",
            "Enter element at position (3,1): 1\n",
            "Enter element at position (3,2): 1\n",
            "Enter element at position (1,1): 1\n",
            "\n",
            "Enter the elements of the second matrix (2x3):\n",
            "Enter element at position (1,2): 2\n",
            "Enter element at position (1,3): 2\n",
            "Enter element at position (2,1): 2\n",
            "Enter element at position (2,2): 2\n",
            "Enter element at position (2,3): 2\n",
            "\n",
            "Resultant Matrix (3x3) after multiplication:\n",
            "[3, 4, 4]\n",
            "[3, 4, 4]\n",
            "[3, 4, 4]\n"
          ]
        }
      ]
    },
    {
      "cell_type": "code",
      "source": [
        "import pandas as pd\n",
        "import matplotlib.pyplot as plt\n",
        "with open('/content/drive/MyDrive/12.txt', 'r') as file:\n",
        "    line = file.readline().strip()\n",
        "    data = [float(x) for x in line.split()]\n",
        "y = [5 * x + 4 for x in data]\n",
        "plt.scatter(data, y, label='Scatter Plot', color='blue')\n",
        "plt.plot(data, y, label='Line Plot', color='red')\n",
        "plt.xlabel(\"X values\")\n",
        "plt.ylabel(\"Y values\")\n",
        "plt.show()"
      ],
      "metadata": {
        "colab": {
          "base_uri": "https://localhost:8080/",
          "height": 449
        },
        "id": "L0RxuFwAm2OR",
        "outputId": "b15b7778-76b6-4738-87b1-c232afff0fb6"
      },
      "execution_count": 24,
      "outputs": [
        {
          "output_type": "display_data",
          "data": {
            "text/plain": [
              "<Figure size 640x480 with 1 Axes>"
            ],
            "image/png": "[encoded data removed]"
          },
          "metadata": {}
        }
      ]
    }
  ]
}